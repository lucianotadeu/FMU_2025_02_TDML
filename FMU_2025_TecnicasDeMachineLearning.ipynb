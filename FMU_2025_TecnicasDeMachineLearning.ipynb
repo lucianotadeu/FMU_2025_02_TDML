{
  "nbformat": 4,
  "nbformat_minor": 0,
  "metadata": {
    "colab": {
      "provenance": [],
      "authorship_tag": "ABX9TyONdKSlPO4mhUPoXwQxxhdZ",
      "include_colab_link": true
    },
    "kernelspec": {
      "name": "python3",
      "display_name": "Python 3"
    },
    "language_info": {
      "name": "python"
    }
  },
  "cells": [
    {
      "cell_type": "markdown",
      "metadata": {
        "id": "view-in-github",
        "colab_type": "text"
      },
      "source": [
        "<a href=\"https://colab.research.google.com/github/lucianotadeu/FMU_2025_02_TDML/blob/main/FMU_2025_TecnicasDeMachineLearning.ipynb\" target=\"_parent\"><img src=\"https://colab.research.google.com/assets/colab-badge.svg\" alt=\"Open In Colab\"/></a>"
      ]
    },
    {
      "cell_type": "markdown",
      "source": [
        "##**colab - Disciplina Técnica de Machine Learning - FMU 2025.02**\n",
        "*  Professor Luciano Tadeu Pereira\n",
        "* email luciano.tadeu@fmu.br\n",
        "\n",
        "---\n",
        "\n",
        "**ATENÇÃO**: Antes de começar, faça uma cópia deste notebook para sua conta do Google Drive. Assim, você poderá editar e testar sem modificar o original.\n",
        "\n",
        "Para isso, clique em \"Arquivo\" → \"Salvar uma cópia no Drive\".\n",
        "\n",
        "OBS: Para executar este notebook, **não** é necessário um ambiente de execução com GPU.\n",
        "\n",
        "---"
      ],
      "metadata": {
        "id": "eMNKURgrDc5J"
      }
    },
    {
      "cell_type": "markdown",
      "source": [
        "### Exemplo de Classificação\n"
      ],
      "metadata": {
        "id": "_R4hlSWCKDr-"
      }
    },
    {
      "cell_type": "code",
      "source": [
        "# Exemplo 1: Classificação com K-Vizinhos Mais Próximos (KNN)\n",
        "# Este código classifica flores do dataset Iris com base em suas características.\n",
        "\n",
        "# 1. Instalar a biblioteca Scikit-learn (já vem por padrão no Colab)\n",
        "# !pip install scikit-learn\n",
        "\n",
        "# 2. Importar as bibliotecas necessárias\n",
        "from sklearn.datasets import load_iris\n",
        "from sklearn.model_selection import train_test_split\n",
        "from sklearn.neighbors import KNeighborsClassifier\n",
        "from sklearn.metrics import accuracy_score\n",
        "\n",
        "# 3. Carregar o dataset Iris (conjunto de dados de exemplo)\n",
        "iris = load_iris()\n",
        "X = iris.data  # Características das flores\n",
        "y = iris.target # Rótulos (classes das flores: Setosa, Versicolor, Virginica)\n",
        "\n",
        "# 4. Dividir os dados em conjuntos de treino e teste\n",
        "# O modelo será treinado com 80% dos dados e testado com 20%\n",
        "X_treino, X_teste, y_treino, y_teste = train_test_split(X, y, test_size=0.2, random_state=42)\n",
        "\n",
        "# 5. Criar e treinar o modelo\n",
        "# Usamos o KNN com 3 vizinhos mais próximos\n",
        "modelo_knn = KNeighborsClassifier(n_neighbors=3)\n",
        "modelo_knn.fit(X_treino, y_treino)\n",
        "\n",
        "# 6. Fazer previsões no conjunto de teste\n",
        "previsoes = modelo_knn.predict(X_teste)\n",
        "\n",
        "# 7. Avaliar o desempenho do modelo\n",
        "acuracia = accuracy_score(y_teste, previsoes)\n",
        "\n",
        "print(f\"Acurácia do modelo: {acuracia:.2f}\")\n",
        "\n",
        "# 8. Fazer uma previsão com uma nova flor (exemplo)\n",
        "# Característica: [comprimento da sépala, largura da sépala, comprimento da pétala, largura da pétala]\n",
        "nova_flor = [[5.1, 3.5, 1.4, 0.2]]\n",
        "previsao_nova_flor = modelo_knn.predict(nova_flor)\n",
        "\n",
        "print(f\"Previsão para a nova flor: {iris.target_names[previsao_nova_flor[0]]}\")"
      ],
      "metadata": {
        "colab": {
          "base_uri": "https://localhost:8080/"
        },
        "id": "DXXiuFY8JRa2",
        "outputId": "4a19eef9-531f-4a7f-8a37-f778e1b3766f"
      },
      "execution_count": null,
      "outputs": [
        {
          "output_type": "stream",
          "name": "stdout",
          "text": [
            "Acurácia do modelo: 1.00\n",
            "Previsão para a nova flor: setosa\n"
          ]
        }
      ]
    },
    {
      "cell_type": "markdown",
      "source": [
        "# Exemplo de Regressão"
      ],
      "metadata": {
        "id": "MnqIPO2pJw3c"
      }
    },
    {
      "cell_type": "code",
      "source": [
        "# Exemplo 2: Regressão Linear Simples\n",
        "# Este código prevê o valor de uma variável a partir de outra.\n",
        "\n",
        "# 1. Importar as bibliotecas necessárias\n",
        "from sklearn.linear_model import LinearRegression\n",
        "import numpy as np\n",
        "import matplotlib.pyplot as plt # Para visualização\n",
        "\n",
        "# 2. Criar dados de exemplo (tamanho de uma casa e seu preço)\n",
        "tamanho_casa = np.array([50, 60, 70, 80, 90, 100, 110, 120]).reshape(-1, 1) # Característica (X)\n",
        "preco_casa = np.array([200, 250, 300, 350, 400, 450, 500, 550]) # Rótulo (y)\n",
        "\n",
        "# 3. Criar e treinar o modelo de regressão linear\n",
        "modelo_regressao = LinearRegression()\n",
        "modelo_regressao.fit(tamanho_casa, preco_casa)\n",
        "\n",
        "# 4. Fazer uma previsão para um novo tamanho de casa\n",
        "novo_tamanho = np.array([[130]])\n",
        "preco_previsto = modelo_regressao.predict(novo_tamanho)\n",
        "\n",
        "print(f\"Preço previsto para uma casa de 130m²: R$ {preco_previsto[0]:.2f} mil\")\n",
        "\n",
        "# 5. Visualizar o resultado (opcional, mas muito útil)\n",
        "plt.scatter(tamanho_casa, preco_casa, color='blue', label='Dados Originais')\n",
        "plt.plot(tamanho_casa, modelo_regressao.predict(tamanho_casa), color='red', label='Linha de Regressão')\n",
        "plt.scatter(novo_tamanho, preco_previsto, color='green', label='Nova Previsão', zorder=5)\n",
        "plt.title('Previsão de Preço de Casas')\n",
        "plt.xlabel('Tamanho da Casa (m²)')\n",
        "plt.ylabel('Preço (milhares de R$)')\n",
        "plt.legend()\n",
        "plt.grid(True)\n",
        "plt.show()"
      ],
      "metadata": {
        "colab": {
          "base_uri": "https://localhost:8080/",
          "height": 489
        },
        "id": "LAcda1xAJwif",
        "outputId": "ded1de96-94c5-4518-a0d9-71c058f6209a"
      },
      "execution_count": null,
      "outputs": [
        {
          "output_type": "stream",
          "name": "stdout",
          "text": [
            "Preço previsto para uma casa de 130m²: R$ 600.00 mil\n"
          ]
        },
        {
          "output_type": "display_data",
          "data": {
            "text/plain": [
              "<Figure size 640x480 with 1 Axes>"
            ],
            "image/png": "[encoded data removed]"
          },
          "metadata": {}
        }
      ]
    },
    {
      "cell_type": "markdown",
      "source": [
        "# Sklearn.preprocessing - Normalização e Codificação"
      ],
      "metadata": {
        "id": "sXugAohENRI9"
      }
    },
    {
      "cell_type": "code",
      "source": [
        "#Normalização e Padronização\n",
        "import numpy as np\n",
        "import pandas as pd\n",
        "from sklearn.preprocessing import StandardScaler, MinMaxScaler, RobustScaler, Normalizer\n",
        "\n",
        "# Dados de exemplo\n",
        "dados = np.array([[1, 2, 3],\n",
        "                  [4, 5, 6],\n",
        "                  [7, 8, 9],\n",
        "                  [10, 11, 12]])\n",
        "\n",
        "# StandardScaler - padronização (média=0, desvio=1)\n",
        "scaler_standard = StandardScaler()\n",
        "dados_standard = scaler_standard.fit_transform(dados)\n",
        "print(\"StandardScaler:\")\n",
        "print(dados_standard)\n",
        "\n",
        "# MinMaxScaler - normalização (0-1)\n",
        "scaler_minmax = MinMaxScaler()\n",
        "dados_minmax = scaler_minmax.fit_transform(dados)\n",
        "print(\"\\nMinMaxScaler:\")\n",
        "print(dados_minmax)\n",
        "\n",
        "# RobustScaler - resistente a outliers\n",
        "scaler_robust = RobustScaler()\n",
        "dados_robust = scaler_robust.fit_transform(dados)\n",
        "print(\"\\nRobustScaler:\")\n",
        "print(dados_robust)\n",
        "\n",
        "# Normalizer - normaliza cada amostra individualmente\n",
        "normalizer = Normalizer(norm='l2')\n",
        "dados_normalized = normalizer.fit_transform(dados)\n",
        "print(\"\\nNormalizer:\")\n",
        "print(dados_normalized)"
      ],
      "metadata": {
        "colab": {
          "base_uri": "https://localhost:8080/"
        },
        "id": "KsEdprsFNTm4",
        "outputId": "5feb9541-d2c7-4d03-b77a-5d5a6db0a583"
      },
      "execution_count": null,
      "outputs": [
        {
          "output_type": "stream",
          "name": "stdout",
          "text": [
            "StandardScaler:\n",
            "[[-1.34164079 -1.34164079 -1.34164079]\n",
            " [-0.4472136  -0.4472136  -0.4472136 ]\n",
            " [ 0.4472136   0.4472136   0.4472136 ]\n",
            " [ 1.34164079  1.34164079  1.34164079]]\n",
            "\n",
            "MinMaxScaler:\n",
            "[[0.         0.         0.        ]\n",
            " [0.33333333 0.33333333 0.33333333]\n",
            " [0.66666667 0.66666667 0.66666667]\n",
            " [1.         1.         1.        ]]\n",
            "\n",
            "RobustScaler:\n",
            "[[-1.         -1.         -1.        ]\n",
            " [-0.33333333 -0.33333333 -0.33333333]\n",
            " [ 0.33333333  0.33333333  0.33333333]\n",
            " [ 1.          1.          1.        ]]\n",
            "\n",
            "Normalizer:\n",
            "[[0.26726124 0.53452248 0.80178373]\n",
            " [0.45584231 0.56980288 0.68376346]\n",
            " [0.50257071 0.57436653 0.64616234]\n",
            " [0.52342392 0.57576631 0.62810871]]\n"
          ]
        }
      ]
    },
    {
      "cell_type": "markdown",
      "source": [
        "#Codificação de Variáveis Categóricas"
      ],
      "metadata": {
        "id": "jZpwg1x4NwXh"
      }
    },
    {
      "cell_type": "code",
      "source": [
        "from sklearn.preprocessing import LabelEncoder, OneHotEncoder, OrdinalEncoder\n",
        "import pandas as pd\n",
        "\n",
        "# Dados categóricos de exemplo\n",
        "dados_cat = pd.DataFrame({\n",
        "    'cor': ['vermelho', 'azul', 'verde', 'azul', 'vermelho'],\n",
        "    'tamanho': ['P', 'M', 'G', 'P', 'G'],\n",
        "    'qualidade': ['baixa', 'média', 'alta', 'média', 'alta']\n",
        "})\n",
        "\n",
        "# LabelEncoder - codifica em números sequenciais\n",
        "le = LabelEncoder()\n",
        "dados_cat['cor_encoded'] = le.fit_transform(dados_cat['cor'])\n",
        "print(\"LabelEncoder:\")\n",
        "print(dados_cat[['cor', 'cor_encoded']])\n",
        "\n",
        "# OneHotEncoder - cria variáveis dummy\n",
        "ohe = OneHotEncoder(sparse_output=False)\n",
        "cor_onehot = ohe.fit_transform(dados_cat[['cor']])\n",
        "cores_df = pd.DataFrame(cor_onehot, columns=ohe.get_feature_names_out(['cor']))\n",
        "print(\"\\nOneHotEncoder:\")\n",
        "print(cores_df)\n",
        "\n",
        "# OrdinalEncoder - para variáveis ordinais\n",
        "oe = OrdinalEncoder(categories=[['P', 'M', 'G']])\n",
        "dados_cat['tamanho_ordinal'] = oe.fit_transform(dados_cat[['tamanho']])\n",
        "print(\"\\nOrdinalEncoder:\")\n",
        "print(dados_cat[['tamanho', 'tamanho_ordinal']])"
      ],
      "metadata": {
        "id": "GS-bu6tBNvQ7"
      },
      "execution_count": null,
      "outputs": []
    },
    {
      "cell_type": "markdown",
      "source": [
        "##Exemplo Prático Completo"
      ],
      "metadata": {
        "id": "LmTngSBAOmj2"
      }
    },
    {
      "cell_type": "code",
      "source": [
        "# Pipeline completo usando todos os módulos\n",
        "from sklearn.pipeline import Pipeline\n",
        "from sklearn.compose import ColumnTransformer\n",
        "from sklearn.metrics import classification_report # Import classification_report\n",
        "\n",
        "# Criando dados com features categóricas e numéricas\n",
        "from sklearn.datasets import fetch_openml\n",
        "import pandas as pd\n",
        "from sklearn.ensemble import RandomForestClassifier # Import RandomForestClassifier\n",
        "from sklearn.model_selection import train_test_split\n",
        "from sklearn.metrics import accuracy_score\n",
        "\n",
        "# Exemplo com dataset Titanic (simulado)\n",
        "np.random.seed(42)\n",
        "n_samples = 1000\n",
        "\n",
        "data = pd.DataFrame({\n",
        "    'age': np.random.normal(35, 15, n_samples),\n",
        "    'fare': np.random.exponential(30, n_samples),\n",
        "    'sex': np.random.choice(['male', 'female'], n_samples),\n",
        "    'class': np.random.choice(['1st', '2nd', '3rd'], n_samples),\n",
        "    'embarked': np.random.choice(['S', 'C', 'Q'], n_samples)\n",
        "})\n",
        "\n",
        "# Target (sobrevivência)\n",
        "y = np.random.choice([0, 1], n_samples, p=[0.6, 0.4])\n",
        "\n",
        "# Separando features numéricas e categóricas\n",
        "numeric_features = ['age', 'fare']\n",
        "categorical_features = ['sex', 'class', 'embarked']\n",
        "\n",
        "# Preprocessamento\n",
        "numeric_transformer = Pipeline(steps=[\n",
        "    ('scaler', StandardScaler())\n",
        "])\n",
        "\n",
        "categorical_transformer = Pipeline(steps=[\n",
        "    ('onehot', OneHotEncoder(handle_unknown='ignore'))\n",
        "])\n",
        "\n",
        "preprocessor = ColumnTransformer(\n",
        "    transformers=[\n",
        "        ('num', numeric_transformer, numeric_features),\n",
        "        ('cat', categorical_transformer, categorical_features)\n",
        "    ]\n",
        ")\n",
        "\n",
        "# Pipeline completo\n",
        "pipeline = Pipeline(steps=[\n",
        "    ('preprocessor', preprocessor),\n",
        "    ('classifier', RandomForestClassifier(n_estimators=100, random_state=42))\n",
        "])\n",
        "\n",
        "# Divisão dos dados\n",
        "X_train, X_test, y_train, y_test = train_test_split(\n",
        "    data, y, test_size=0.2, random_state=42, stratify=y\n",
        ")\n",
        "\n",
        "# Treinamento\n",
        "pipeline.fit(X_train, y_train)\n",
        "\n",
        "# Predição\n",
        "y_pred = pipeline.predict(X_test)\n",
        "\n",
        "# Avaliação\n",
        "accuracy = accuracy_score(y_test, y_pred)\n",
        "print(f\"Pipeline Completo - Acurácia: {accuracy:.3f}\")\n",
        "print(\"\\nRelatório Final:\")\n",
        "print(classification_report(y_test, y_pred))"
      ],
      "metadata": {
        "colab": {
          "base_uri": "https://localhost:8080/"
        },
        "id": "kQmLAeIDOnQk",
        "outputId": "b6bd962a-b1c5-4c26-8da7-08f8e30eab70"
      },
      "execution_count": null,
      "outputs": [
        {
          "output_type": "stream",
          "name": "stdout",
          "text": [
            "Pipeline Completo - Acurácia: 0.620\n",
            "\n",
            "Relatório Final:\n",
            "              precision    recall  f1-score   support\n",
            "\n",
            "           0       0.67      0.77      0.72       125\n",
            "           1       0.49      0.37      0.42        75\n",
            "\n",
            "    accuracy                           0.62       200\n",
            "   macro avg       0.58      0.57      0.57       200\n",
            "weighted avg       0.60      0.62      0.61       200\n",
            "\n"
          ]
        }
      ]
    },
    {
      "cell_type": "markdown",
      "source": [
        "\n",
        "\n",
        "---\n",
        "\n"
      ],
      "metadata": {
        "id": "3JP1blbwvuT5"
      }
    },
    {
      "cell_type": "markdown",
      "source": [
        "#**FMU 2025 Aula 02 TÉCNICAS DE MACHINE LEARNING**"
      ],
      "metadata": {
        "id": "FUvmURnzLxQv"
      }
    },
    {
      "cell_type": "markdown",
      "source": [
        "**Aprendizado Supervisionado**\n",
        "\n",
        "É o tipo mais comum, onde o modelo é treinado em um conjunto de dados rotulado, ou seja, cada exemplo de treinamento tem uma entrada e uma saída desejada.\n",
        "\n",
        "**Conceitos Chave:**\n",
        "\n",
        "**Regressão:** Prever valores contínuos (ex: notas acadêmicas).\n",
        "\n",
        "**Classificação:** Prever categorias (ex: aprovação ou reprovação).\n",
        "\n",
        "**Árvores de Decisão:** Estruturas para dividir dados em subconjuntos.\n",
        "\n",
        "Exemplo Prático:\n",
        "\n",
        "Previsão de notas acadêmicas de alunos com base em dados demográficos e histórico escolar, utilizando um modelo de regressão linear."
      ],
      "metadata": {
        "id": "eeaMR_SJMIPF"
      }
    },
    {
      "cell_type": "code",
      "source": [
        "# Exemplo 1: Classificação com Árvore de Decisão\n",
        "# Prevendo se um aluno será \"Aprovado\" ou \"Reprovado\" baseado em dados simulados.\n",
        "\n",
        "# 1. Importar as bibliotecas necessárias\n",
        "from sklearn.tree import DecisionTreeClassifier\n",
        "from sklearn.model_selection import train_test_split\n",
        "import pandas as pd\n",
        "\n",
        "# 2. Criar um dataset simulado\n",
        "dados_alunos = pd.DataFrame({\n",
        "    'horas_estudo': [2, 3, 5, 6, 8, 10, 1, 4],\n",
        "    'participacao': [1, 2, 3, 4, 5, 5, 1, 2],\n",
        "    'resultado': ['Reprovado', 'Reprovado', 'Aprovado', 'Aprovado', 'Aprovado', 'Aprovado', 'Reprovado', 'Reprovado']\n",
        "})\n",
        "\n",
        "X = dados_alunos[['horas_estudo', 'participacao']]\n",
        "y = dados_alunos['resultado']\n",
        "\n",
        "# 3. Dividir os dados para treino e teste\n",
        "X_treino, X_teste, y_treino, y_teste = train_test_split(X, y, test_size=0.25, random_state=42)\n",
        "\n",
        "# 4. Criar e treinar o modelo\n",
        "modelo_arvore = DecisionTreeClassifier()\n",
        "modelo_arvore.fit(X_treino, y_treino)\n",
        "\n",
        "# 5. Fazer uma previsão para um novo aluno\n",
        "novo_aluno = [[6, 2]]\n",
        "previsao = modelo_arvore.predict(novo_aluno)\n",
        "\n",
        "print(f\"A previsão para o novo aluno é: {previsao[0]}\")"
      ],
      "metadata": {
        "colab": {
          "base_uri": "https://localhost:8080/"
        },
        "id": "rpM1699GMGFu",
        "outputId": "3c344444-41a1-4c48-a193-bbf1a37b6f65"
      },
      "execution_count": null,
      "outputs": [
        {
          "output_type": "stream",
          "name": "stdout",
          "text": [
            "A previsão para o novo aluno é: Reprovado\n"
          ]
        },
        {
          "output_type": "stream",
          "name": "stderr",
          "text": [
            "/usr/local/lib/python3.12/dist-packages/sklearn/utils/validation.py:2739: UserWarning: X does not have valid feature names, but DecisionTreeClassifier was fitted with feature names\n",
            "  warnings.warn(\n"
          ]
        }
      ]
    },
    {
      "cell_type": "markdown",
      "source": [
        "Esta célula de código demonstra um exemplo de classificação usando um modelo de\n",
        "\n",
        "Árvore de Decisão da biblioteca scikit-learn.\n",
        "\n",
        "**Aqui está um detalhamento do código:**\n",
        "\n",
        "*   Importar Bibliotecas: Importa DecisionTreeClassifier para o modelo, train_test_split para dividir os dados e pandas para lidar com os dados em um formato estruturado (DataFrame).\n",
        "\n",
        "*    Criar Conjunto de Dados Simulado: Um DataFrame pandas dados_alunos é criado para simular dados de alunos com 'horas_estudo', 'participacao' e 'resultado' (Aprovado/Reprovado).\n",
        "\n",
        "*    Separar Features e Variável Alvo: As features (variáveis independentes) são armazenadas em X e a variável alvo (o que queremos prever) é armazenada em y.\n",
        "\n",
        "*    Dividir Dados: Os dados são divididos em conjuntos de treino e teste usando train_test_split. Isso é crucial para avaliar o quão bem o modelo generaliza para dados não vistos. 75% dos dados são usados para treino e 25% para teste.\n",
        "\n",
        "*    Criar e Treinar Modelo: Um DecisionTreeClassifier é inicializado e então treinado usando os dados de treino (X_treino e y_treino) com o método .fit().\n",
        "\n",
        "*    Fazer uma Previsão: Os dados de um novo aluno simulado (novo_aluno) são criados, e o modelo treinado faz uma previsão sobre esses dados usando o método .predict().\n",
        "\n",
        "Imprimir Previsão: O resultado previsto para o novo aluno é impresso.\n",
        "Em essência, este código treina uma árvore de decisão para aprender a relação entre horas de estudo, participação e resultados dos alunos, e então usa essa relação aprendida para prever o resultado para um novo aluno."
      ],
      "metadata": {
        "id": "cF2TV4_YTGv1"
      }
    },
    {
      "cell_type": "markdown",
      "source": [
        "##**Aprendizado Não Supervisionado**\n",
        "Trabalha com dados sem rótulos. O objetivo é explorar a estrutura subjacente para descobrir padrões ou agrupamentos de forma autônoma.\n",
        "\n",
        "**Conceitos Chave:**\n",
        "\n",
        "*   **Agrupamento** (Clustering): Identificar grupos de dados similares.\n",
        "\n",
        "*   **Redução de Dimensionalidade:** Simplificar conjuntos de dados complexos (ex: PCA).\n",
        "\n",
        "\n",
        "**Exemplo Prático:**\n",
        "Segmentação de alunos em grupos com características de aprendizado semelhantes usando técnicas como K-means."
      ],
      "metadata": {
        "id": "6vp3QB_yToeF"
      }
    },
    {
      "cell_type": "code",
      "source": [
        "# Exemplo 2: Agrupamento com K-Means\n",
        "# Segmentando alunos em grupos de desempenho com base em suas notas simuladas, sem rótulos prévios.\n",
        "\n",
        "# 1. Importar as bibliotecas necessárias\n",
        "from sklearn.cluster import KMeans\n",
        "import numpy as np\n",
        "\n",
        "# 2. Criar dados de notas simuladas (Prova 1 e Prova 2)\n",
        "# Não há rótulos de grupo, apenas os dados das notas.\n",
        "dados_notas = np.array([\n",
        "    [7.5, 8.0], [8.2, 8.5], [7.8, 7.9],  # Grupo 1: Alto desempenho\n",
        "    [5.0, 5.5], [4.8, 5.2], [5.9, 6.0],  # Grupo 2: Médio desempenho\n",
        "    [2.0, 3.0], [2.5, 2.8], [3.1, 3.5]   # Grupo 3: Baixo desempenho\n",
        "])\n",
        "\n",
        "# 3. Criar e treinar o modelo K-Means\n",
        "# Vamos pedir para o algoritmo encontrar 3 grupos (clusters)\n",
        "modelo_kmeans = KMeans(n_clusters=3, random_state=42, n_init=10)\n",
        "modelo_kmeans.fit(dados_notas)\n",
        "\n",
        "# 4. Obter as etiquetas (rótulos) dos grupos para cada aluno\n",
        "etiquetas_grupos = modelo_kmeans.labels_\n",
        "\n",
        "# 5. Imprimir os grupos identificados\n",
        "print(\"Etiquetas de grupo para cada aluno (exemplo):\")\n",
        "print(etiquetas_grupos)\n",
        "print(\"\\nObservação: Os números (0, 1, 2) representam os grupos encontrados pelo algoritmo.\")"
      ],
      "metadata": {
        "colab": {
          "base_uri": "https://localhost:8080/"
        },
        "id": "J834s6O3Tnwt",
        "outputId": "4b8f69e4-0d66-481f-f0b3-a5d587a44bfb"
      },
      "execution_count": null,
      "outputs": [
        {
          "output_type": "stream",
          "name": "stdout",
          "text": [
            "Etiquetas de grupo para cada aluno (exemplo):\n",
            "[2 2 2 0 0 0 1 1 1]\n",
            "\n",
            "Observação: Os números (0, 1, 2) representam os grupos encontrados pelo algoritmo.\n"
          ]
        }
      ]
    },
    {
      "cell_type": "markdown",
      "source": [
        "Esta célula de código demonstra um exemplo de aprendizado não supervisionado usando o algoritmo de agrupamento K-Means.\n",
        "\n",
        "**Aqui está um detalhamento do código:**\n",
        "\n",
        "*    Importar Bibliotecas: Importa KMeans para o modelo de agrupamento e numpy para lidar com os dados como arrays.\n",
        "\n",
        "*    Criar Dados Simulados: Um array numpy dados_notas é criado para simular notas de alunos (Prova 1 e Prova 2). Observe que não há rótulos de grupo fornecidos nestes dados, pois é para aprendizado não supervisionado.\n",
        "\n",
        "*    Criar e Treinar Modelo: Um modelo KMeans é inicializado. Especificamos n_clusters=3 porque queremos que o algoritmo encontre 3 grupos distintos.\n",
        "\n",
        "*    random_state=42 garante a reprodutibilidade, e n_init=10 especifica o número de vezes que o algoritmo K-Means será executado com diferentes sementes de centróides (o melhor resultado será usado). O modelo é então treinado usando os dados de notas dos alunos (dados_notas) com o método .fit().\n",
        "\n",
        "*    Obter Rótulos dos Grupos: Após o treinamento, o atributo modelo_kmeans.labels_ contém o rótulo do cluster (0, 1 ou 2, neste caso) atribuído a cada ponto de dados (aluno).\n",
        "\n",
        "Imprimir Grupos Identificados: Os rótulos dos clusters resultantes são impressos. A saída mostra a qual grupo cada aluno foi atribuído pelo algoritmo.\n",
        "Em essência, este código aplica o algoritmo K-Means para agrupar alunos com base em suas notas de prova, identificando automaticamente grupos de desempenho em potencial sem a necessidade de rótulos pré-definidos."
      ],
      "metadata": {
        "id": "IVosZafpU6v3"
      }
    },
    {
      "cell_type": "markdown",
      "source": [
        "##**Aprendizado por Reforço**\n",
        "Uma abordagem onde um agente aprende a tomar decisões através de interações com o ambiente, recebendo recompensas ou penalidades.\n",
        "\n",
        "**Conceitos Chave:**\n",
        "\n",
        "*   **Q-Learning:** Algoritmo para otimizar a função de valor da ação.\n",
        "\n",
        "*   **Deep Reinforcement Learning:** Combina aprendizado profundo com aprendizado por reforço.\n",
        "\n",
        "**Exemplo Prático:**\n",
        "\n",
        "Otimizar processos educacionais, como a personalização de currículos para maximizar o engajamento dos alunos."
      ],
      "metadata": {
        "id": "5tl-_vSLVk8h"
      }
    },
    {
      "cell_type": "code",
      "source": [
        "# Exemplo 3: Conceito de Aprendizado por Reforço\n",
        "# Simulação conceitual de um agente (robô-professor) que aprende a recomendar conteúdo.\n",
        "# Isso NÃO é um código executável de RL completo, mas ilustra o conceito.\n",
        "\n",
        "# Definição de estados, ações e recompensas\n",
        "estados = ['Conteúdo_A', 'Conteúdo_B', 'Conteúdo_C']\n",
        "acoes = ['Recomendar_A', 'Recomendar_B', 'Recomendar_C']\n",
        "\n",
        "# Recompensa esperada (hipotética)\n",
        "# Se o agente recomenda o conteúdo certo, ele recebe uma recompensa alta.\n",
        "def obter_recompensa(estado_atual, acao_tomada):\n",
        "    if estado_atual == 'Conteúdo_A' and acao_tomada == 'Recomendar_A':\n",
        "        return 10  # Recompensa alta\n",
        "    elif estado_atual == 'Conteúdo_B' and acao_tomada == 'Recomendar_B':\n",
        "        return 10\n",
        "    else:\n",
        "        return -1  # Recompensa baixa (ou punição)\n",
        "\n",
        "# O loop de aprendizado conceitual do agente\n",
        "print(\"Iniciando o processo de aprendizado por reforço...\")\n",
        "for episodio in range(3): # Simula 3 tentativas de aprendizado\n",
        "    estado_inicial = estados[np.random.randint(len(estados))] # Agente escolhe um estado aleatório\n",
        "    acao_aleatoria = acoes[np.random.randint(len(acoes))] # Agente escolhe uma ação aleatória\n",
        "\n",
        "    recompensa = obter_recompensa(estado_inicial, acao_aleatoria)\n",
        "\n",
        "    print(f\"Episódio {episodio + 1}:\")\n",
        "    print(f\"  Estado inicial: {estado_inicial}\")\n",
        "    print(f\"  Ação tomada: {acao_aleatoria}\")\n",
        "    print(f\"  Recompensa obtida: {recompensa}\")\n",
        "\n",
        "print(\"\\nO agente aprende a estratégia para maximizar a recompensa ao longo do tempo.\")"
      ],
      "metadata": {
        "colab": {
          "base_uri": "https://localhost:8080/"
        },
        "id": "YVLRzsi-Vjhp",
        "outputId": "130742dc-dbce-4317-f644-1b325b8469bc"
      },
      "execution_count": null,
      "outputs": [
        {
          "output_type": "stream",
          "name": "stdout",
          "text": [
            "Iniciando o processo de aprendizado por reforço...\n",
            "Episódio 1:\n",
            "  Estado inicial: Conteúdo_A\n",
            "  Ação tomada: Recomendar_C\n",
            "  Recompensa obtida: -1\n",
            "Episódio 2:\n",
            "  Estado inicial: Conteúdo_B\n",
            "  Ação tomada: Recomendar_B\n",
            "  Recompensa obtida: 10\n",
            "Episódio 3:\n",
            "  Estado inicial: Conteúdo_B\n",
            "  Ação tomada: Recomendar_A\n",
            "  Recompensa obtida: -1\n",
            "\n",
            "O agente aprende a estratégia para maximizar a recompensa ao longo do tempo.\n"
          ]
        }
      ]
    },
    {
      "cell_type": "markdown",
      "source": [
        "Esta célula de código ilustra a ideia conceitual por trás do Aprendizado por Reforço.\n",
        "\n",
        "**Aqui está um detalhamento:**\n",
        "\n",
        "*   **Definição de Estados, Ações e Recompensas:** Define os possíveis estados (por exemplo, diferentes tipos de conteúdo), as possíveis ações que o agente pode tomar (por exemplo, recomendar conteúdo) e uma função para determinar a recompensa que o agente recebe com base em sua ação em um determinado estado. Neste exemplo simplificado, uma recompensa alta (10) é dada se o agente recomenda o conteúdo \"correto\" para um estado, e uma recompensa baixa (-1) caso contrário.\n",
        "\n",
        "*   **Loop de Aprendizado Conceitual:** O código então simula um processo de aprendizado ao longo de alguns \"episódios\". Em cada episódio:\n",
        "O agente começa em um estado aleatório.\n",
        "\n",
        "*   **Ele executa uma ação aleatória.**\n",
        "\n",
        "*   **Ele recebe uma recompensa com base nessa ação e estado.**\n",
        "\n",
        "O código imprime o estado, a ação e a recompensa para aquele episódio.\n",
        "\n",
        "**Observação Importante:** Esta é uma simulação conceitual muito básica. Uma implementação real de Aprendizado por Reforço envolveria algoritmos mais complexos (como Q-Learning) que atualizam a estratégia do agente ao longo de muitos episódios para aprender quais ações maximizam a recompensa cumulativa ao longo do tempo. As instruções de impressão no final enfatizam que o objetivo do agente é aprender essa estratégia."
      ],
      "metadata": {
        "id": "lm8xhyWLWSUj"
      }
    }
  ]
}